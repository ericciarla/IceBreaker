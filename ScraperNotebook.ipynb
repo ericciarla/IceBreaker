{
 "cells": [
  {
   "cell_type": "markdown",
   "metadata": {},
   "source": [
    "## Import "
   ]
  },
  {
   "cell_type": "code",
   "execution_count": 9,
   "metadata": {},
   "outputs": [],
   "source": [
    "from selenium import webdriver\n",
    "from selenium.webdriver.common.keys import Keys\n",
    "from bs4 import BeautifulSoup\n",
    "from bs4.element import Tag\n",
    "from time import sleep\n",
    "import csv\n",
    "from parsel import Selector\n",
    "import numpy"
   ]
  },
  {
   "cell_type": "markdown",
   "metadata": {},
   "source": [
    "## Parameters"
   ]
  },
  {
   "cell_type": "code",
   "execution_count": 93,
   "metadata": {},
   "outputs": [],
   "source": [
    "# login credentials\n",
    "linkedin_username = '#'\n",
    "linkedin_password = '#'\n",
    "\n",
    "# linkedin profile url\n",
    "profile_url = \"#"
   ]
  },
  {
   "cell_type": "markdown",
   "metadata": {},
   "source": [
    "## LinkedIn Login"
   ]
  },
  {
   "cell_type": "code",
   "execution_count": 113,
   "metadata": {},
   "outputs": [],
   "source": [
    "# specifies the path to the chromedriver.exe\n",
    "driver = webdriver.Chrome('/Users/ericciarla/projects/python_projects/chromedriver')\n",
    "\n",
    "\n",
    "# driver.get method() will navigate to a page given by the URL address\n",
    "driver.get('https://www.linkedin.com')\n",
    "\n",
    "# locate email form by_class_name\n",
    "username = driver.find_element_by_id('session_key')\n",
    "\n",
    "# send_keys() to simulate key strokes\n",
    "username.send_keys(linkedin_username)\n",
    "sleep(1)\n",
    "\n",
    "# locate password form by_class_name\n",
    "password = driver.find_element_by_id('session_password')\n",
    "sleep(1)\n",
    "# send_keys() to simulate key strokes\n",
    "password.send_keys(linkedin_password)\n",
    "sleep(1)\n",
    "\n",
    "# locate submit button by_class_name\n",
    "log_in_button = driver.find_element_by_class_name('sign-in-form__submit-button')\n",
    "\n",
    "# .click() to mimic button click\n",
    "log_in_button.click()\n",
    "sleep(1)"
   ]
  },
  {
   "cell_type": "markdown",
   "metadata": {},
   "source": [
    "## Scrape profile from linkedin"
   ]
  },
  {
   "cell_type": "code",
   "execution_count": 114,
   "metadata": {},
   "outputs": [],
   "source": [
    "\n",
    "# driver.get method() will navigate to a page given by the URL address\n",
    "driver.get(profile_url)\n",
    "sleep(10)\n",
    "sel = Selector(text=driver.page_source)"
   ]
  },
  {
   "cell_type": "code",
   "execution_count": 115,
   "metadata": {},
   "outputs": [],
   "source": [
    "# xpath to extract the text from the class containing the name\n",
    "name = sel.xpath('//h1/text()').extract_first()\n",
    "\n",
    "if name:\n",
    "    name = name.strip()\n",
    "\n",
    "# xpath to extract the text from the class containing the volunteer pv-entity__secondary-title\n",
    "company = sel.xpath('//*[starts-with(@class, \"pv-profile-section__card-item-v2 pv-profile-section pv-position-entity ember-view\")]//*[starts-with(@class, \"pv-entity__secondary-title t-14 t-black t-normal\")]/text()').extract()\n",
    "if company:\n",
    "    s_company = [s.strip() for s in company]\n",
    "    s_company = list(filter(None, s_company))\n",
    "else:\n",
    "    s_company = \"\"\n",
    "\n",
    "# xpath to extract the text from the class containing the volunteer pv-entity__secondary-title\n",
    "position = sel.xpath('//*[starts-with(@class, \"pv-profile-section__card-item-v2 pv-profile-section pv-position-entity ember-view\")]//*[starts-with(@class, \"t-16 t-black t-bold\")]/text()').extract()\n",
    "if position:\n",
    "    s_position = [s.strip() for s in position]\n",
    "    s_position = list(filter(None, s_position))\n",
    "else:\n",
    "    s_position = \"\"\n",
    "\n",
    "# xpath to extract the text from the class containing the company\n",
    "education = sel.xpath('//*[starts-with(@class, \"pv-entity__school-name t-16 t-black t-bold\")]/text()').extract()\n",
    "if education:\n",
    "    s_education = [s.strip() for s in education]\n",
    "    s_education = list(filter(None, s_education))\n",
    "else:\n",
    "    s_education = \"\"\n",
    "\n",
    "# xpath to extract the text from the class containing the company pv-entity__comma-item\n",
    "degree = sel.xpath('//*[starts-with(@class, \"pv-entity__secondary-title pv-entity__fos t-14 t-black t-normal\")]//*[starts-with(@class, \"pv-entity__comma-item\")]/text()').extract()\n",
    "if degree:\n",
    "    s_degree = [s.strip() for s in degree]\n",
    "    s_degree = list(filter(None, s_degree))\n",
    "else:\n",
    "    s_degree = \"\"\n",
    "\n",
    "# xpath to extract the text from the class containing the company inline-show-more-text inline-show-more-text--is-collapsed mt4 t-14\n",
    "about = sel.xpath('string(//*[starts-with(@class, \"pv-profile-section pv-about-section artdeco-card p5 mt4 ember-view\")])').extract_first()\n",
    "if about:\n",
    "    about = about.strip()\n",
    "    about = ' '.join(about.split())\n",
    "    about = ' '.join(about.split(' ')[1:])\n",
    "    about = ' '.join(about.split(' ')[:-3])\n",
    "else:\n",
    "    about = \"\"\n",
    "\n",
    "# xpath to extract the text from the class containing the volunteer pv-entity__secondary-title\n",
    "volunteer_org = sel.xpath('//*[starts-with(@class, \"pv-profile-section__list-item pv-volunteering-entity pv-profile-section__card-item ember-view\")]//*[starts-with(@class, \"pv-entity__secondary-title\")]/text()').extract()\n",
    "if volunteer_org:\n",
    "    s_volunteer_org = [s.strip() for s in volunteer_org]\n",
    "    s_volunteer_org = list(filter(None, s_volunteer_org))\n",
    "else:\n",
    "    s_volunteer_org = \"\"\n",
    "\n",
    "# xpath to extract the text from the class containing the volunteer pv-entity__secondary-title\n",
    "volunteer_pos = sel.xpath('//*[starts-with(@class, \"pv-profile-section__list-item pv-volunteering-entity pv-profile-section__card-item ember-view\")]//*[starts-with(@class, \"t-16 t-black t-bold\")]/text()').extract()\n",
    "if volunteer_pos:\n",
    "    s_volunteer_pos = [s.strip() for s in volunteer_pos]\n",
    "    s_volunteer_pos = list(filter(None, s_volunteer_pos))\n",
    "else:\n",
    "    s_volunteer_pos = \"\""
   ]
  },
  {
   "cell_type": "code",
   "execution_count": 116,
   "metadata": {},
   "outputs": [
    {
     "name": "stdout",
     "output_type": "stream",
     "text": [
      "\n",
      "\n",
      "Name: Harrison Blondeau\n",
      "Companies: Fidelity Charitable\n",
      "Georgetown Impact Investing Group\n",
      "Athenium Analytics\n",
      "vineyard vines\n",
      "Positions: Data Analyst Intern\n",
      "Chair of Member Education\n",
      "Data Science Intern\n",
      "Salesperson\n",
      "Education: Georgetown University\n",
      "University of Sydney\n",
      "Degrees: Computer Science\n",
      "Mathematics\n",
      "Volunteer Orgs: \n",
      "Volunteer Positions: \n",
      "About: \n"
     ]
    }
   ],
   "source": [
    "# printing the output to the terminal\n",
    "print('\\n')\n",
    "print('Name: ' + name)\n",
    "print('Companies: ' + '\\n'.join(map(str,s_company)) )\n",
    "print('Positions: ' + '\\n'.join(map(str,s_position)) )\n",
    "print('Education: ' + '\\n'.join(map(str,s_education)) )\n",
    "print('Degrees: ' + '\\n'.join(map(str,degree)) )\n",
    "print('Volunteer Orgs: ' + '\\n'.join(map(str,s_volunteer_org)) )\n",
    "print('Volunteer Positions: ' + '\\n'.join(map(str,s_volunteer_pos)) )\n",
    "print('About: ' + about)"
   ]
  },
  {
   "cell_type": "markdown",
   "metadata": {},
   "source": [
    "## Generate Questions"
   ]
  },
  {
   "cell_type": "code",
   "execution_count": 118,
   "metadata": {},
   "outputs": [
    {
     "name": "stdout",
     "output_type": "stream",
     "text": [
      "What is your biggest challenge in your role as a Data Analyst Intern at Fidelity Charitable?\n",
      "How has your education in Computer Science prepared you to be a Data Analyst Intern?\n",
      "What have you enjoyed the most at Fidelity Charitable?\n",
      "What have you enjoyed the most at Fidelity Charitable?\n",
      "What does your day to day life look like as a Data Analyst Intern?\n",
      "What has been your biggest accomplishment at Fidelity Charitable?\n"
     ]
    }
   ],
   "source": [
    "questions = []\n",
    "text = \"What is your biggest challenge in your role as a \" + s_position[0]  + \" at \" + s_company[0] + \"?\"\n",
    "questions.append(text)\n",
    "text = \"How has your education in \" + degree[0]  + \" prepared you to be a \" + s_position[0] + \"?\"\n",
    "questions.append(text)\n",
    "text = \"What have you enjoyed the most at \" + s_company[0]  + \"?\"\n",
    "questions.append(text)\n",
    "#text = \"What have you enjoyed most when volunteering at \" + s_volunteer_org[0]  + \"?\"\n",
    "#questions.append(text)\n",
    "text = \"What does your day to day life look like as a \" + s_position[0]  + \"?\"\n",
    "questions.append(text)\n",
    "text = \"What has been your biggest accomplishment at \" + s_company[0]  + \"?\"\n",
    "questions.append(text)\n",
    "print('\\n'.join(map(str,questions)) )"
   ]
  }
 ],
 "metadata": {
  "language_info": {},
  "orig_nbformat": 3
 },
 "nbformat": 4,
 "nbformat_minor": 2
}